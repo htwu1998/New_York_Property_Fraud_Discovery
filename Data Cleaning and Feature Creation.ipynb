{
 "cells": [
  {
   "cell_type": "markdown",
   "metadata": {
    "ExecuteTime": {
     "end_time": "2021-01-30T21:17:04.951125Z",
     "start_time": "2021-01-30T21:17:04.948730Z"
    }
   },
   "source": [
    "### [Loading libraries](#1)<a id=\"1\"></a> <br>"
   ]
  },
  {
   "cell_type": "code",
   "execution_count": 1,
   "metadata": {
    "ExecuteTime": {
     "end_time": "2021-01-30T22:21:34.101690Z",
     "start_time": "2021-01-30T22:21:33.058864Z"
    }
   },
   "outputs": [
    {
     "name": "stdout",
     "output_type": "stream",
     "text": [
      "LOAD DURATION: 0:00:01.037716\n"
     ]
    }
   ],
   "source": [
    "# Loading all libraries\n",
    "from datetime import datetime\n",
    "start_time = datetime.now()\n",
    "# %pip install xgboost\n",
    "# %pip install imblearn\n",
    "# %pip install openpyxl\n",
    "\n",
    "import pandas as pd\n",
    "import numpy as np\n",
    "import matplotlib.pyplot as plt\n",
    "import seaborn as sns\n",
    "from sklearn.preprocessing import LabelEncoder\n",
    "from sklearn.utils import resample\n",
    "from xgboost import XGBClassifier\n",
    "from sklearn.metrics import roc_auc_score,precision_recall_curve,roc_curve\n",
    "from sklearn.model_selection import train_test_split\n",
    "from sklearn.linear_model import LogisticRegression\n",
    "from sklearn.manifold import TSNE\n",
    "import time\n",
    "from sklearn.decomposition import PCA, TruncatedSVD\n",
    "import matplotlib.patches as mpatches\n",
    "from sklearn.metrics import confusion_matrix\n",
    "from scipy import stats\n",
    "\n",
    "print('LOAD DURATION:',datetime.now() - start_time)"
   ]
  },
  {
   "cell_type": "markdown",
   "metadata": {},
   "source": [
    "### [Loading Data](#3)<a id=\"3\"></a> <br>"
   ]
  },
  {
   "cell_type": "code",
   "execution_count": 2,
   "metadata": {
    "ExecuteTime": {
     "end_time": "2021-01-30T22:21:36.747588Z",
     "start_time": "2021-01-30T22:21:34.103490Z"
    }
   },
   "outputs": [
    {
     "name": "stdout",
     "output_type": "stream",
     "text": [
      "data set is loaded !\n",
      "CPU times: user 2.42 s, sys: 218 ms, total: 2.64 s\n",
      "Wall time: 2.64 s\n"
     ]
    }
   ],
   "source": [
    "%%time \n",
    "# loading the dataset\n",
    "data = pd.read_csv('Data/NY property data.csv')\n",
    "print('data set is loaded !')"
   ]
  },
  {
   "cell_type": "code",
   "execution_count": 3,
   "metadata": {
    "ExecuteTime": {
     "end_time": "2021-01-30T22:21:37.328010Z",
     "start_time": "2021-01-30T22:21:36.750219Z"
    }
   },
   "outputs": [
    {
     "data": {
      "text/html": [
       "<div>\n",
       "<style scoped>\n",
       "    .dataframe tbody tr th:only-of-type {\n",
       "        vertical-align: middle;\n",
       "    }\n",
       "\n",
       "    .dataframe tbody tr th {\n",
       "        vertical-align: top;\n",
       "    }\n",
       "\n",
       "    .dataframe thead th {\n",
       "        text-align: right;\n",
       "    }\n",
       "</style>\n",
       "<table border=\"1\" class=\"dataframe\">\n",
       "  <thead>\n",
       "    <tr style=\"text-align: right;\">\n",
       "      <th></th>\n",
       "      <th>RECORD</th>\n",
       "      <th>B</th>\n",
       "      <th>BLOCK</th>\n",
       "      <th>LOT</th>\n",
       "      <th>LTFRONT</th>\n",
       "      <th>LTDEPTH</th>\n",
       "      <th>STORIES</th>\n",
       "      <th>FULLVAL</th>\n",
       "      <th>AVLAND</th>\n",
       "      <th>AVTOT</th>\n",
       "      <th>...</th>\n",
       "      <th>EXTOT</th>\n",
       "      <th>EXCD1</th>\n",
       "      <th>ZIP</th>\n",
       "      <th>BLDFRONT</th>\n",
       "      <th>BLDDEPTH</th>\n",
       "      <th>AVLAND2</th>\n",
       "      <th>AVTOT2</th>\n",
       "      <th>EXLAND2</th>\n",
       "      <th>EXTOT2</th>\n",
       "      <th>EXCD2</th>\n",
       "    </tr>\n",
       "  </thead>\n",
       "  <tbody>\n",
       "    <tr>\n",
       "      <th>count</th>\n",
       "      <td>1.070994e+06</td>\n",
       "      <td>1.070994e+06</td>\n",
       "      <td>1.070994e+06</td>\n",
       "      <td>1.070994e+06</td>\n",
       "      <td>1.070994e+06</td>\n",
       "      <td>1.070994e+06</td>\n",
       "      <td>1.014730e+06</td>\n",
       "      <td>1.070994e+06</td>\n",
       "      <td>1.070994e+06</td>\n",
       "      <td>1.070994e+06</td>\n",
       "      <td>...</td>\n",
       "      <td>1.070994e+06</td>\n",
       "      <td>638488.000000</td>\n",
       "      <td>1.041104e+06</td>\n",
       "      <td>1.070994e+06</td>\n",
       "      <td>1.070994e+06</td>\n",
       "      <td>2.827260e+05</td>\n",
       "      <td>2.827320e+05</td>\n",
       "      <td>8.744900e+04</td>\n",
       "      <td>1.308280e+05</td>\n",
       "      <td>92948.000000</td>\n",
       "    </tr>\n",
       "    <tr>\n",
       "      <th>mean</th>\n",
       "      <td>5.354975e+05</td>\n",
       "      <td>3.215427e+00</td>\n",
       "      <td>4.757239e+03</td>\n",
       "      <td>3.647221e+02</td>\n",
       "      <td>3.663530e+01</td>\n",
       "      <td>8.886159e+01</td>\n",
       "      <td>5.006918e+00</td>\n",
       "      <td>8.742645e+05</td>\n",
       "      <td>8.506792e+04</td>\n",
       "      <td>2.272382e+05</td>\n",
       "      <td>...</td>\n",
       "      <td>9.118698e+04</td>\n",
       "      <td>1602.014232</td>\n",
       "      <td>1.092396e+04</td>\n",
       "      <td>2.304277e+01</td>\n",
       "      <td>3.992284e+01</td>\n",
       "      <td>2.462357e+05</td>\n",
       "      <td>7.139114e+05</td>\n",
       "      <td>3.512357e+05</td>\n",
       "      <td>6.567683e+05</td>\n",
       "      <td>1364.041679</td>\n",
       "    </tr>\n",
       "    <tr>\n",
       "      <th>std</th>\n",
       "      <td>3.091695e+05</td>\n",
       "      <td>1.201197e+00</td>\n",
       "      <td>3.676579e+03</td>\n",
       "      <td>8.532152e+02</td>\n",
       "      <td>7.403284e+01</td>\n",
       "      <td>7.639628e+01</td>\n",
       "      <td>8.365707e+00</td>\n",
       "      <td>1.158243e+07</td>\n",
       "      <td>4.057260e+06</td>\n",
       "      <td>6.877529e+06</td>\n",
       "      <td>...</td>\n",
       "      <td>6.508403e+06</td>\n",
       "      <td>1384.226741</td>\n",
       "      <td>5.284208e+02</td>\n",
       "      <td>3.557970e+01</td>\n",
       "      <td>4.270715e+01</td>\n",
       "      <td>6.178963e+06</td>\n",
       "      <td>1.165253e+07</td>\n",
       "      <td>1.080221e+07</td>\n",
       "      <td>1.607251e+07</td>\n",
       "      <td>1094.705653</td>\n",
       "    </tr>\n",
       "    <tr>\n",
       "      <th>min</th>\n",
       "      <td>1.000000e+00</td>\n",
       "      <td>1.000000e+00</td>\n",
       "      <td>1.000000e+00</td>\n",
       "      <td>1.000000e+00</td>\n",
       "      <td>0.000000e+00</td>\n",
       "      <td>0.000000e+00</td>\n",
       "      <td>1.000000e+00</td>\n",
       "      <td>0.000000e+00</td>\n",
       "      <td>0.000000e+00</td>\n",
       "      <td>0.000000e+00</td>\n",
       "      <td>...</td>\n",
       "      <td>0.000000e+00</td>\n",
       "      <td>1010.000000</td>\n",
       "      <td>1.000100e+04</td>\n",
       "      <td>0.000000e+00</td>\n",
       "      <td>0.000000e+00</td>\n",
       "      <td>3.000000e+00</td>\n",
       "      <td>3.000000e+00</td>\n",
       "      <td>1.000000e+00</td>\n",
       "      <td>7.000000e+00</td>\n",
       "      <td>1011.000000</td>\n",
       "    </tr>\n",
       "    <tr>\n",
       "      <th>25%</th>\n",
       "      <td>2.677492e+05</td>\n",
       "      <td>3.000000e+00</td>\n",
       "      <td>1.555000e+03</td>\n",
       "      <td>2.300000e+01</td>\n",
       "      <td>1.900000e+01</td>\n",
       "      <td>8.000000e+01</td>\n",
       "      <td>2.000000e+00</td>\n",
       "      <td>3.040000e+05</td>\n",
       "      <td>9.180000e+03</td>\n",
       "      <td>1.837400e+04</td>\n",
       "      <td>...</td>\n",
       "      <td>0.000000e+00</td>\n",
       "      <td>1017.000000</td>\n",
       "      <td>1.031400e+04</td>\n",
       "      <td>1.500000e+01</td>\n",
       "      <td>2.600000e+01</td>\n",
       "      <td>5.705000e+03</td>\n",
       "      <td>3.391200e+04</td>\n",
       "      <td>2.090000e+03</td>\n",
       "      <td>2.870000e+03</td>\n",
       "      <td>1017.000000</td>\n",
       "    </tr>\n",
       "    <tr>\n",
       "      <th>50%</th>\n",
       "      <td>5.354975e+05</td>\n",
       "      <td>3.000000e+00</td>\n",
       "      <td>4.047000e+03</td>\n",
       "      <td>4.900000e+01</td>\n",
       "      <td>2.500000e+01</td>\n",
       "      <td>1.000000e+02</td>\n",
       "      <td>2.000000e+00</td>\n",
       "      <td>4.470000e+05</td>\n",
       "      <td>1.367800e+04</td>\n",
       "      <td>2.534000e+04</td>\n",
       "      <td>...</td>\n",
       "      <td>1.620000e+03</td>\n",
       "      <td>1017.000000</td>\n",
       "      <td>1.121400e+04</td>\n",
       "      <td>2.000000e+01</td>\n",
       "      <td>3.900000e+01</td>\n",
       "      <td>2.014500e+04</td>\n",
       "      <td>7.996250e+04</td>\n",
       "      <td>3.048000e+03</td>\n",
       "      <td>3.706200e+04</td>\n",
       "      <td>1017.000000</td>\n",
       "    </tr>\n",
       "    <tr>\n",
       "      <th>75%</th>\n",
       "      <td>8.032458e+05</td>\n",
       "      <td>4.000000e+00</td>\n",
       "      <td>6.898000e+03</td>\n",
       "      <td>1.430000e+02</td>\n",
       "      <td>4.000000e+01</td>\n",
       "      <td>1.000000e+02</td>\n",
       "      <td>3.000000e+00</td>\n",
       "      <td>6.190000e+05</td>\n",
       "      <td>1.974000e+04</td>\n",
       "      <td>4.543800e+04</td>\n",
       "      <td>...</td>\n",
       "      <td>2.090000e+03</td>\n",
       "      <td>1017.000000</td>\n",
       "      <td>1.136400e+04</td>\n",
       "      <td>2.400000e+01</td>\n",
       "      <td>5.000000e+01</td>\n",
       "      <td>6.264000e+04</td>\n",
       "      <td>2.405510e+05</td>\n",
       "      <td>3.177900e+04</td>\n",
       "      <td>1.068408e+05</td>\n",
       "      <td>1017.000000</td>\n",
       "    </tr>\n",
       "    <tr>\n",
       "      <th>max</th>\n",
       "      <td>1.070994e+06</td>\n",
       "      <td>5.000000e+00</td>\n",
       "      <td>1.635000e+04</td>\n",
       "      <td>9.978000e+03</td>\n",
       "      <td>9.999000e+03</td>\n",
       "      <td>9.999000e+03</td>\n",
       "      <td>1.190000e+02</td>\n",
       "      <td>6.150000e+09</td>\n",
       "      <td>2.668500e+09</td>\n",
       "      <td>4.668309e+09</td>\n",
       "      <td>...</td>\n",
       "      <td>4.668309e+09</td>\n",
       "      <td>7170.000000</td>\n",
       "      <td>3.380300e+04</td>\n",
       "      <td>7.575000e+03</td>\n",
       "      <td>9.393000e+03</td>\n",
       "      <td>2.371005e+09</td>\n",
       "      <td>4.501180e+09</td>\n",
       "      <td>2.371005e+09</td>\n",
       "      <td>4.501180e+09</td>\n",
       "      <td>7160.000000</td>\n",
       "    </tr>\n",
       "  </tbody>\n",
       "</table>\n",
       "<p>8 rows × 21 columns</p>\n",
       "</div>"
      ],
      "text/plain": [
       "             RECORD             B         BLOCK           LOT       LTFRONT  \\\n",
       "count  1.070994e+06  1.070994e+06  1.070994e+06  1.070994e+06  1.070994e+06   \n",
       "mean   5.354975e+05  3.215427e+00  4.757239e+03  3.647221e+02  3.663530e+01   \n",
       "std    3.091695e+05  1.201197e+00  3.676579e+03  8.532152e+02  7.403284e+01   \n",
       "min    1.000000e+00  1.000000e+00  1.000000e+00  1.000000e+00  0.000000e+00   \n",
       "25%    2.677492e+05  3.000000e+00  1.555000e+03  2.300000e+01  1.900000e+01   \n",
       "50%    5.354975e+05  3.000000e+00  4.047000e+03  4.900000e+01  2.500000e+01   \n",
       "75%    8.032458e+05  4.000000e+00  6.898000e+03  1.430000e+02  4.000000e+01   \n",
       "max    1.070994e+06  5.000000e+00  1.635000e+04  9.978000e+03  9.999000e+03   \n",
       "\n",
       "            LTDEPTH       STORIES       FULLVAL        AVLAND         AVTOT  \\\n",
       "count  1.070994e+06  1.014730e+06  1.070994e+06  1.070994e+06  1.070994e+06   \n",
       "mean   8.886159e+01  5.006918e+00  8.742645e+05  8.506792e+04  2.272382e+05   \n",
       "std    7.639628e+01  8.365707e+00  1.158243e+07  4.057260e+06  6.877529e+06   \n",
       "min    0.000000e+00  1.000000e+00  0.000000e+00  0.000000e+00  0.000000e+00   \n",
       "25%    8.000000e+01  2.000000e+00  3.040000e+05  9.180000e+03  1.837400e+04   \n",
       "50%    1.000000e+02  2.000000e+00  4.470000e+05  1.367800e+04  2.534000e+04   \n",
       "75%    1.000000e+02  3.000000e+00  6.190000e+05  1.974000e+04  4.543800e+04   \n",
       "max    9.999000e+03  1.190000e+02  6.150000e+09  2.668500e+09  4.668309e+09   \n",
       "\n",
       "       ...         EXTOT          EXCD1           ZIP      BLDFRONT  \\\n",
       "count  ...  1.070994e+06  638488.000000  1.041104e+06  1.070994e+06   \n",
       "mean   ...  9.118698e+04    1602.014232  1.092396e+04  2.304277e+01   \n",
       "std    ...  6.508403e+06    1384.226741  5.284208e+02  3.557970e+01   \n",
       "min    ...  0.000000e+00    1010.000000  1.000100e+04  0.000000e+00   \n",
       "25%    ...  0.000000e+00    1017.000000  1.031400e+04  1.500000e+01   \n",
       "50%    ...  1.620000e+03    1017.000000  1.121400e+04  2.000000e+01   \n",
       "75%    ...  2.090000e+03    1017.000000  1.136400e+04  2.400000e+01   \n",
       "max    ...  4.668309e+09    7170.000000  3.380300e+04  7.575000e+03   \n",
       "\n",
       "           BLDDEPTH       AVLAND2        AVTOT2       EXLAND2        EXTOT2  \\\n",
       "count  1.070994e+06  2.827260e+05  2.827320e+05  8.744900e+04  1.308280e+05   \n",
       "mean   3.992284e+01  2.462357e+05  7.139114e+05  3.512357e+05  6.567683e+05   \n",
       "std    4.270715e+01  6.178963e+06  1.165253e+07  1.080221e+07  1.607251e+07   \n",
       "min    0.000000e+00  3.000000e+00  3.000000e+00  1.000000e+00  7.000000e+00   \n",
       "25%    2.600000e+01  5.705000e+03  3.391200e+04  2.090000e+03  2.870000e+03   \n",
       "50%    3.900000e+01  2.014500e+04  7.996250e+04  3.048000e+03  3.706200e+04   \n",
       "75%    5.000000e+01  6.264000e+04  2.405510e+05  3.177900e+04  1.068408e+05   \n",
       "max    9.393000e+03  2.371005e+09  4.501180e+09  2.371005e+09  4.501180e+09   \n",
       "\n",
       "              EXCD2  \n",
       "count  92948.000000  \n",
       "mean    1364.041679  \n",
       "std     1094.705653  \n",
       "min     1011.000000  \n",
       "25%     1017.000000  \n",
       "50%     1017.000000  \n",
       "75%     1017.000000  \n",
       "max     7160.000000  \n",
       "\n",
       "[8 rows x 21 columns]"
      ]
     },
     "execution_count": 3,
     "metadata": {},
     "output_type": "execute_result"
    }
   ],
   "source": [
    "data.describe()"
   ]
  },
  {
   "cell_type": "code",
   "execution_count": 4,
   "metadata": {
    "ExecuteTime": {
     "end_time": "2021-01-30T22:21:37.347213Z",
     "start_time": "2021-01-30T22:21:37.330346Z"
    }
   },
   "outputs": [
    {
     "data": {
      "text/html": [
       "<div>\n",
       "<style scoped>\n",
       "    .dataframe tbody tr th:only-of-type {\n",
       "        vertical-align: middle;\n",
       "    }\n",
       "\n",
       "    .dataframe tbody tr th {\n",
       "        vertical-align: top;\n",
       "    }\n",
       "\n",
       "    .dataframe thead th {\n",
       "        text-align: right;\n",
       "    }\n",
       "</style>\n",
       "<table border=\"1\" class=\"dataframe\">\n",
       "  <thead>\n",
       "    <tr style=\"text-align: right;\">\n",
       "      <th></th>\n",
       "      <th>RECORD</th>\n",
       "      <th>BBLE</th>\n",
       "      <th>B</th>\n",
       "      <th>BLOCK</th>\n",
       "      <th>LOT</th>\n",
       "      <th>EASEMENT</th>\n",
       "      <th>OWNER</th>\n",
       "      <th>BLDGCL</th>\n",
       "      <th>TAXCLASS</th>\n",
       "      <th>LTFRONT</th>\n",
       "      <th>...</th>\n",
       "      <th>BLDFRONT</th>\n",
       "      <th>BLDDEPTH</th>\n",
       "      <th>AVLAND2</th>\n",
       "      <th>AVTOT2</th>\n",
       "      <th>EXLAND2</th>\n",
       "      <th>EXTOT2</th>\n",
       "      <th>EXCD2</th>\n",
       "      <th>PERIOD</th>\n",
       "      <th>YEAR</th>\n",
       "      <th>VALTYPE</th>\n",
       "    </tr>\n",
       "  </thead>\n",
       "  <tbody>\n",
       "    <tr>\n",
       "      <th>0</th>\n",
       "      <td>1</td>\n",
       "      <td>1000010101</td>\n",
       "      <td>1</td>\n",
       "      <td>1</td>\n",
       "      <td>101</td>\n",
       "      <td>NaN</td>\n",
       "      <td>U S GOVT LAND &amp; BLDGS</td>\n",
       "      <td>P7</td>\n",
       "      <td>4</td>\n",
       "      <td>500</td>\n",
       "      <td>...</td>\n",
       "      <td>0</td>\n",
       "      <td>0</td>\n",
       "      <td>3775500.0</td>\n",
       "      <td>8613000.0</td>\n",
       "      <td>3775500.0</td>\n",
       "      <td>8613000.0</td>\n",
       "      <td>NaN</td>\n",
       "      <td>FINAL</td>\n",
       "      <td>2010/11</td>\n",
       "      <td>AC-TR</td>\n",
       "    </tr>\n",
       "    <tr>\n",
       "      <th>1</th>\n",
       "      <td>2</td>\n",
       "      <td>1000010201</td>\n",
       "      <td>1</td>\n",
       "      <td>1</td>\n",
       "      <td>201</td>\n",
       "      <td>NaN</td>\n",
       "      <td>U S GOVT LAND &amp; BLDGS</td>\n",
       "      <td>Z9</td>\n",
       "      <td>4</td>\n",
       "      <td>27</td>\n",
       "      <td>...</td>\n",
       "      <td>0</td>\n",
       "      <td>0</td>\n",
       "      <td>11111400.0</td>\n",
       "      <td>80690400.0</td>\n",
       "      <td>11111400.0</td>\n",
       "      <td>80690400.0</td>\n",
       "      <td>NaN</td>\n",
       "      <td>FINAL</td>\n",
       "      <td>2010/11</td>\n",
       "      <td>AC-TR</td>\n",
       "    </tr>\n",
       "    <tr>\n",
       "      <th>2</th>\n",
       "      <td>3</td>\n",
       "      <td>1000020001</td>\n",
       "      <td>1</td>\n",
       "      <td>2</td>\n",
       "      <td>1</td>\n",
       "      <td>NaN</td>\n",
       "      <td>DEPT OF GENERAL SERVI</td>\n",
       "      <td>Y7</td>\n",
       "      <td>4</td>\n",
       "      <td>709</td>\n",
       "      <td>...</td>\n",
       "      <td>709</td>\n",
       "      <td>564</td>\n",
       "      <td>32321790.0</td>\n",
       "      <td>40179510.0</td>\n",
       "      <td>32321790.0</td>\n",
       "      <td>40179510.0</td>\n",
       "      <td>NaN</td>\n",
       "      <td>FINAL</td>\n",
       "      <td>2010/11</td>\n",
       "      <td>AC-TR</td>\n",
       "    </tr>\n",
       "    <tr>\n",
       "      <th>3</th>\n",
       "      <td>4</td>\n",
       "      <td>1000020023</td>\n",
       "      <td>1</td>\n",
       "      <td>2</td>\n",
       "      <td>23</td>\n",
       "      <td>NaN</td>\n",
       "      <td>DEPARTMENT OF BUSINES</td>\n",
       "      <td>T2</td>\n",
       "      <td>4</td>\n",
       "      <td>793</td>\n",
       "      <td>...</td>\n",
       "      <td>85</td>\n",
       "      <td>551</td>\n",
       "      <td>13644000.0</td>\n",
       "      <td>15750000.0</td>\n",
       "      <td>13644000.0</td>\n",
       "      <td>15750000.0</td>\n",
       "      <td>NaN</td>\n",
       "      <td>FINAL</td>\n",
       "      <td>2010/11</td>\n",
       "      <td>AC-TR</td>\n",
       "    </tr>\n",
       "    <tr>\n",
       "      <th>4</th>\n",
       "      <td>5</td>\n",
       "      <td>1000030001</td>\n",
       "      <td>1</td>\n",
       "      <td>3</td>\n",
       "      <td>1</td>\n",
       "      <td>NaN</td>\n",
       "      <td>PARKS AND RECREATION</td>\n",
       "      <td>Q1</td>\n",
       "      <td>4</td>\n",
       "      <td>323</td>\n",
       "      <td>...</td>\n",
       "      <td>89</td>\n",
       "      <td>57</td>\n",
       "      <td>106348680.0</td>\n",
       "      <td>107758350.0</td>\n",
       "      <td>106348680.0</td>\n",
       "      <td>107758350.0</td>\n",
       "      <td>NaN</td>\n",
       "      <td>FINAL</td>\n",
       "      <td>2010/11</td>\n",
       "      <td>AC-TR</td>\n",
       "    </tr>\n",
       "  </tbody>\n",
       "</table>\n",
       "<p>5 rows × 32 columns</p>\n",
       "</div>"
      ],
      "text/plain": [
       "   RECORD        BBLE  B  BLOCK  LOT EASEMENT                  OWNER BLDGCL  \\\n",
       "0       1  1000010101  1      1  101      NaN  U S GOVT LAND & BLDGS     P7   \n",
       "1       2  1000010201  1      1  201      NaN  U S GOVT LAND & BLDGS     Z9   \n",
       "2       3  1000020001  1      2    1      NaN  DEPT OF GENERAL SERVI     Y7   \n",
       "3       4  1000020023  1      2   23      NaN  DEPARTMENT OF BUSINES     T2   \n",
       "4       5  1000030001  1      3    1      NaN   PARKS AND RECREATION     Q1   \n",
       "\n",
       "  TAXCLASS  LTFRONT  ...  BLDFRONT BLDDEPTH      AVLAND2       AVTOT2  \\\n",
       "0        4      500  ...         0        0    3775500.0    8613000.0   \n",
       "1        4       27  ...         0        0   11111400.0   80690400.0   \n",
       "2        4      709  ...       709      564   32321790.0   40179510.0   \n",
       "3        4      793  ...        85      551   13644000.0   15750000.0   \n",
       "4        4      323  ...        89       57  106348680.0  107758350.0   \n",
       "\n",
       "       EXLAND2       EXTOT2  EXCD2  PERIOD     YEAR VALTYPE  \n",
       "0    3775500.0    8613000.0    NaN   FINAL  2010/11   AC-TR  \n",
       "1   11111400.0   80690400.0    NaN   FINAL  2010/11   AC-TR  \n",
       "2   32321790.0   40179510.0    NaN   FINAL  2010/11   AC-TR  \n",
       "3   13644000.0   15750000.0    NaN   FINAL  2010/11   AC-TR  \n",
       "4  106348680.0  107758350.0    NaN   FINAL  2010/11   AC-TR  \n",
       "\n",
       "[5 rows x 32 columns]"
      ]
     },
     "execution_count": 4,
     "metadata": {},
     "output_type": "execute_result"
    }
   ],
   "source": [
    "data.head()"
   ]
  },
  {
   "cell_type": "code",
   "execution_count": 5,
   "metadata": {
    "ExecuteTime": {
     "end_time": "2021-01-30T22:21:37.353305Z",
     "start_time": "2021-01-30T22:21:37.348609Z"
    }
   },
   "outputs": [
    {
     "data": {
      "text/plain": [
       "29890"
      ]
     },
     "execution_count": 5,
     "metadata": {},
     "output_type": "execute_result"
    }
   ],
   "source": [
    "# Filling Missing Values - ZIP\n",
    "missing_zips = np.where(pd.isnull(data['ZIP']))[0]\n",
    "len(missing_zips)"
   ]
  },
  {
   "cell_type": "code",
   "execution_count": 6,
   "metadata": {
    "ExecuteTime": {
     "end_time": "2021-01-30T22:22:36.639547Z",
     "start_time": "2021-01-30T22:21:37.354828Z"
    }
   },
   "outputs": [
    {
     "name": "stdout",
     "output_type": "stream",
     "text": [
      "CPU times: user 49.4 s, sys: 9.87 s, total: 59.3 s\n",
      "Wall time: 59.3 s\n"
     ]
    }
   ],
   "source": [
    "%%time\n",
    "for i in range(len(missing_zips)):\n",
    "    if (data.loc[missing_zips[i]+1,'ZIP'] == data.loc[missing_zips[i]-1, 'ZIP']):\n",
    "        data.loc[missing_zips[i],'ZIP'] = data.loc[missing_zips[i]-1,'ZIP']"
   ]
  },
  {
   "cell_type": "code",
   "execution_count": 7,
   "metadata": {
    "ExecuteTime": {
     "end_time": "2021-01-30T22:22:36.646330Z",
     "start_time": "2021-01-30T22:22:36.641480Z"
    }
   },
   "outputs": [
    {
     "data": {
      "text/plain": [
       "16437"
      ]
     },
     "execution_count": 7,
     "metadata": {},
     "output_type": "execute_result"
    }
   ],
   "source": [
    "# check for remaining NA\n",
    "missing_zips = np.where(pd.isnull(data['ZIP']))[0]\n",
    "len(missing_zips)"
   ]
  },
  {
   "cell_type": "code",
   "execution_count": 8,
   "metadata": {
    "ExecuteTime": {
     "end_time": "2021-01-30T22:23:48.078050Z",
     "start_time": "2021-01-30T22:22:36.649670Z"
    }
   },
   "outputs": [
    {
     "name": "stdout",
     "output_type": "stream",
     "text": [
      "CPU times: user 59.3 s, sys: 12.1 s, total: 1min 11s\n",
      "Wall time: 1min 11s\n"
     ]
    }
   ],
   "source": [
    "%%time\n",
    "for i in range(len(missing_zips)):\n",
    "    data.loc[missing_zips[i],'ZIP'] = data.loc[missing_zips[i]-1, 'ZIP']"
   ]
  },
  {
   "cell_type": "code",
   "execution_count": 9,
   "metadata": {
    "ExecuteTime": {
     "end_time": "2021-01-30T22:23:48.085565Z",
     "start_time": "2021-01-30T22:23:48.080844Z"
    }
   },
   "outputs": [
    {
     "data": {
      "text/plain": [
       "0"
      ]
     },
     "execution_count": 9,
     "metadata": {},
     "output_type": "execute_result"
    }
   ],
   "source": [
    "# check again\n",
    "missing_zips = np.where(pd.isnull(data['ZIP']))[0]\n",
    "len(missing_zips)"
   ]
  },
  {
   "cell_type": "code",
   "execution_count": 10,
   "metadata": {
    "ExecuteTime": {
     "end_time": "2021-01-30T22:23:48.111875Z",
     "start_time": "2021-01-30T22:23:48.087304Z"
    }
   },
   "outputs": [
    {
     "data": {
      "text/plain": [
       "56264"
      ]
     },
     "execution_count": 10,
     "metadata": {},
     "output_type": "execute_result"
    }
   ],
   "source": [
    "# Filling Missing Values - STORIES\n",
    "temp = data[data['STORIES'].isnull()]\n",
    "len(temp)"
   ]
  },
  {
   "cell_type": "code",
   "execution_count": 11,
   "metadata": {
    "ExecuteTime": {
     "end_time": "2021-01-30T22:23:48.124061Z",
     "start_time": "2021-01-30T22:23:48.113843Z"
    }
   },
   "outputs": [
    {
     "data": {
      "text/plain": [
       "1B    24736\n",
       "4     22354\n",
       "3      4635\n",
       "2      3435\n",
       "1       897\n",
       "2C      138\n",
       "2B       34\n",
       "2A       30\n",
       "1A        5\n",
       "Name: TAXCLASS, dtype: int64"
      ]
     },
     "execution_count": 11,
     "metadata": {},
     "output_type": "execute_result"
    }
   ],
   "source": [
    "temp['TAXCLASS'].value_counts()"
   ]
  },
  {
   "cell_type": "code",
   "execution_count": 12,
   "metadata": {
    "ExecuteTime": {
     "end_time": "2021-01-30T22:23:48.172685Z",
     "start_time": "2021-01-30T22:23:48.126137Z"
    }
   },
   "outputs": [
    {
     "name": "stdout",
     "output_type": "stream",
     "text": [
      "TAXCLASS\n",
      "1      2.111641\n",
      "1A     1.656837\n",
      "1B     4.000000\n",
      "1C     3.052748\n",
      "1D     1.068966\n",
      "2     16.095110\n",
      "2A     2.844574\n",
      "2B     4.004494\n",
      "2C     4.745097\n",
      "3      1.333333\n",
      "4      5.446968\n",
      "Name: STORIES, dtype: float64\n"
     ]
    }
   ],
   "source": [
    "mean_stories = data.groupby('TAXCLASS')['STORIES'].mean()\n",
    "print(mean_stories)"
   ]
  },
  {
   "cell_type": "code",
   "execution_count": 13,
   "metadata": {
    "ExecuteTime": {
     "end_time": "2021-01-30T22:23:48.179264Z",
     "start_time": "2021-01-30T22:23:48.174452Z"
    }
   },
   "outputs": [
    {
     "data": {
      "text/plain": [
       "0"
      ]
     },
     "execution_count": 13,
     "metadata": {},
     "output_type": "execute_result"
    }
   ],
   "source": [
    "len(data[data['STORIES']==0])"
   ]
  },
  {
   "cell_type": "code",
   "execution_count": 14,
   "metadata": {
    "ExecuteTime": {
     "end_time": "2021-01-30T22:23:48.743788Z",
     "start_time": "2021-01-30T22:23:48.180931Z"
    }
   },
   "outputs": [],
   "source": [
    "data['STORIES'] = data['STORIES'].fillna(value=0)\n",
    "for index in mean_stories.index:\n",
    "    data.loc[(data['STORIES']==0)&(data['TAXCLASS']==index),'STORIES'] = mean_stories[index]"
   ]
  },
  {
   "cell_type": "code",
   "execution_count": 15,
   "metadata": {
    "ExecuteTime": {
     "end_time": "2021-01-30T22:23:48.939625Z",
     "start_time": "2021-01-30T22:23:48.745280Z"
    }
   },
   "outputs": [
    {
     "name": "stdout",
     "output_type": "stream",
     "text": [
      "TAXCLASS\n",
      "1     5.698435e+05\n",
      "1A    3.352842e+05\n",
      "1B    5.613639e+05\n",
      "1C    7.615359e+05\n",
      "1D    2.233614e+07\n",
      "2     7.998018e+05\n",
      "2A    8.640037e+05\n",
      "2B    1.252989e+06\n",
      "2C    7.728799e+05\n",
      "3     1.112765e+05\n",
      "4     3.211928e+06\n",
      "Name: FULLVAL, dtype: float64\n"
     ]
    }
   ],
   "source": [
    "# Filling Missing Values - FULLVAL, AVLAND, AVTOT\n",
    "data['FULLVAL'].replace('NaN',0)\n",
    "temp = data[data['FULLVAL']!=0]\n",
    "mean_fullval = temp.groupby('TAXCLASS')['FULLVAL'].mean()\n",
    "print(mean_fullval)"
   ]
  },
  {
   "cell_type": "code",
   "execution_count": 16,
   "metadata": {
    "ExecuteTime": {
     "end_time": "2021-01-30T22:23:49.223769Z",
     "start_time": "2021-01-30T22:23:48.941173Z"
    }
   },
   "outputs": [],
   "source": [
    "data['AVLAND'].replace('NaN',0)\n",
    "temp_avland = data[data['AVLAND']!=0]\n",
    "mean_avland = temp.groupby('TAXCLASS')['AVLAND'].mean()"
   ]
  },
  {
   "cell_type": "code",
   "execution_count": 17,
   "metadata": {
    "ExecuteTime": {
     "end_time": "2021-01-30T22:23:49.501191Z",
     "start_time": "2021-01-30T22:23:49.225230Z"
    }
   },
   "outputs": [],
   "source": [
    "data['AVTOT'].replace('NaN',0)\n",
    "temp_avtot = data[data['AVTOT']!=0]\n",
    "mean_avtot = temp.groupby('TAXCLASS')['AVTOT'].mean()"
   ]
  },
  {
   "cell_type": "code",
   "execution_count": 18,
   "metadata": {
    "ExecuteTime": {
     "end_time": "2021-01-30T22:23:51.052067Z",
     "start_time": "2021-01-30T22:23:49.502978Z"
    }
   },
   "outputs": [
    {
     "name": "stdout",
     "output_type": "stream",
     "text": [
      "CPU times: user 1.53 s, sys: 20.3 ms, total: 1.55 s\n",
      "Wall time: 1.55 s\n"
     ]
    }
   ],
   "source": [
    "%%time\n",
    "for index in mean_fullval.index:\n",
    "    data.loc[(data['FULLVAL']==0)&(data['TAXCLASS']==index),'FULLVAL'] = mean_fullval[index]\n",
    "    data.loc[(data['AVLAND']==0)&(data['TAXCLASS']==index),'AVLAND'] = mean_avland[index]\n",
    "    data.loc[(data['AVTOT']==0)&(data['TAXCLASS']==index),'AVTOT'] = mean_avtot[index]"
   ]
  },
  {
   "cell_type": "code",
   "execution_count": 19,
   "metadata": {
    "ExecuteTime": {
     "end_time": "2021-01-30T22:23:51.561323Z",
     "start_time": "2021-01-30T22:23:51.053809Z"
    }
   },
   "outputs": [],
   "source": [
    "# Filling Missing Values -LTFRONT, LTDEPTH, BLDFRONT, BLDDEPTH\n",
    "# First replace 0 with NA\n",
    "data.loc[data['LTFRONT']==0,'LTFRONT'] = np.nan\n",
    "data.loc[data['LTDEPTH']==0,'LTDEPTH'] = np.nan\n",
    "data.loc[data['BLDFRONT']==0,'BLDFRONT'] = np.nan\n",
    "data.loc[data['BLDDEPTH']==0,'BLDDEPTH'] = np.nan"
   ]
  },
  {
   "cell_type": "code",
   "execution_count": 20,
   "metadata": {
    "ExecuteTime": {
     "end_time": "2021-01-30T22:23:51.855523Z",
     "start_time": "2021-01-30T22:23:51.562821Z"
    }
   },
   "outputs": [],
   "source": [
    "# calculate the mean without 0 (replaced with NA)\n",
    "mean_LTFRONT=data.groupby(data['TAXCLASS'])['LTFRONT'].mean()\n",
    "mean_LTDEPTH=data.groupby(data['TAXCLASS'])['LTDEPTH'].mean()\n",
    "mean_BLDFRONT=data.groupby(data['TAXCLASS'])['BLDFRONT'].mean()\n",
    "mean_BLDDEPTH=data.groupby(data['TAXCLASS'])['BLDDEPTH'].mean()"
   ]
  },
  {
   "cell_type": "code",
   "execution_count": 21,
   "metadata": {
    "ExecuteTime": {
     "end_time": "2021-01-30T22:23:53.900784Z",
     "start_time": "2021-01-30T22:23:51.857177Z"
    }
   },
   "outputs": [],
   "source": [
    "# impute values\n",
    "for index in mean_LTFRONT.index:\n",
    "    data.loc[(data['LTFRONT'].isnull())&(data['TAXCLASS']==index),'LTFRONT']=mean_LTFRONT[index]    \n",
    "    data.loc[(data['LTDEPTH'].isnull())&(data['TAXCLASS']==index),'LTDEPTH']=mean_LTDEPTH[index]\n",
    "    data.loc[(data['BLDFRONT'].isnull())&(data['TAXCLASS']==index),'BLDFRONT']=mean_BLDFRONT[index]\n",
    "    data.loc[(data['BLDDEPTH'].isnull())&(data['TAXCLASS']==index),'BLDDEPTH']=mean_BLDDEPTH[index]"
   ]
  },
  {
   "cell_type": "code",
   "execution_count": 22,
   "metadata": {
    "ExecuteTime": {
     "end_time": "2021-01-30T22:23:54.553431Z",
     "start_time": "2021-01-30T22:23:53.902152Z"
    }
   },
   "outputs": [],
   "source": [
    "# convert ZIP to an integer rather than a float\n",
    "data['ZIP'] = data['ZIP'].astype(str)\n",
    "data['ZIP3'] = data['ZIP'].str[:3]"
   ]
  },
  {
   "cell_type": "code",
   "execution_count": 23,
   "metadata": {
    "ExecuteTime": {
     "end_time": "2021-01-30T22:23:54.578554Z",
     "start_time": "2021-01-30T22:23:54.558511Z"
    }
   },
   "outputs": [],
   "source": [
    "# create the 3 variables\n",
    "data['lotarea'] = data['LTFRONT'] * data['LTDEPTH']\n",
    "data['bldarea'] = data['BLDFRONT'] * data['BLDDEPTH']\n",
    "data['bldvol'] = data['bldarea'] * data['STORIES']"
   ]
  },
  {
   "cell_type": "code",
   "execution_count": 24,
   "metadata": {
    "ExecuteTime": {
     "end_time": "2021-01-30T22:23:54.629289Z",
     "start_time": "2021-01-30T22:23:54.581003Z"
    }
   },
   "outputs": [],
   "source": [
    "# create r1-r9\n",
    "data['r1'] = data['FULLVAL'] / data['lotarea']\n",
    "data['r2'] = data['FULLVAL'] / data['bldarea']\n",
    "data['r3'] = data['FULLVAL'] / data['bldvol']\n",
    "data['r4'] = data['AVLAND'] / data['lotarea']\n",
    "data['r5'] = data['AVLAND'] / data['bldarea']\n",
    "data['r6'] = data['AVLAND'] / data['bldvol']\n",
    "data['r7'] = data['AVTOT'] / data['lotarea']\n",
    "data['r8'] = data['AVTOT'] / data['bldarea']\n",
    "data['r9'] = data['AVTOT'] / data['bldvol']"
   ]
  },
  {
   "cell_type": "code",
   "execution_count": 25,
   "metadata": {
    "ExecuteTime": {
     "end_time": "2021-01-30T22:23:57.229910Z",
     "start_time": "2021-01-30T22:23:54.631716Z"
    }
   },
   "outputs": [],
   "source": [
    "# calculate the 45 variables\n",
    "ninevars = ['r1','r2','r3','r4','r5','r6','r7','r8','r9']\n",
    "zip5_mean = data.groupby('ZIP')[ninevars].mean()\n",
    "zip3_mean = data.groupby('ZIP3')[ninevars].mean()\n",
    "taxclass_mean = data.groupby('TAXCLASS').mean()\n",
    "borough_mean = data.groupby('B')[ninevars].mean()\n",
    "data = data.join(zip5_mean, on = 'ZIP', rsuffix ='_zip5')\n",
    "data = data.join(zip3_mean, on = 'ZIP3', rsuffix = '_zip3')\n",
    "data = data.join(taxclass_mean, on = 'TAXCLASS', rsuffix = '_taxclass')\n",
    "data = data.join(borough_mean, on = 'B', rsuffix = '_boro')\n",
    "rsuffix = ['_zip5', '_zip3', '_taxclass', '_boro']\n",
    "for var in ninevars:\n",
    "    for r in rsuffix:\n",
    "        data[str(var)+r] = data[var] / data[str(var)+r]"
   ]
  },
  {
   "cell_type": "code",
   "execution_count": 26,
   "metadata": {
    "ExecuteTime": {
     "end_time": "2021-01-30T22:23:57.236631Z",
     "start_time": "2021-01-30T22:23:57.232328Z"
    }
   },
   "outputs": [
    {
     "data": {
      "text/plain": [
       "104"
      ]
     },
     "execution_count": 26,
     "metadata": {},
     "output_type": "execute_result"
    }
   ],
   "source": [
    "len(data.columns)"
   ]
  },
  {
   "cell_type": "code",
   "execution_count": 27,
   "metadata": {
    "ExecuteTime": {
     "end_time": "2021-01-30T22:23:58.672884Z",
     "start_time": "2021-01-30T22:23:57.238629Z"
    }
   },
   "outputs": [],
   "source": [
    "# drop columns that are not needed\n",
    "data.drop(['RECORD','BBLE', 'B', 'BLOCK', 'LOT', 'EASEMENT', 'OWNER', 'BLDGCL', 'TAXCLASS', 'LTFRONT', 'LTDEPTH', 'EXT',\n",
    "          'STORIES', 'FULLVAL', 'AVLAND', 'AVTOT', 'EXLAND', 'EXTOT', 'EXCD1', 'STADDR', 'ZIP', 'EXMPTCL', \n",
    "          'BLDFRONT', 'BLDDEPTH', 'AVLAND2', 'AVTOT2', 'EXLAND2', 'EXTOT2', 'EXCD2', 'PERIOD', 'YEAR', \n",
    "          'VALTYPE', 'ZIP3', 'lotarea', 'bldarea', 'bldvol','RECORD_taxclass', 'B_taxclass', 'BLOCK_taxclass',\n",
    "          'LOT_taxclass', 'LTFRONT_taxclass', 'LTDEPTH_taxclass', 'STORIES_taxclass', 'FULLVAL_taxclass',\n",
    "          'AVLAND_taxclass', 'AVTOT_taxclass', 'EXLAND_taxclass', 'EXTOT_taxclass', 'EXCD1_taxclass',\n",
    "          'BLDFRONT_taxclass', 'BLDDEPTH_taxclass', 'AVLAND2_taxclass', 'AVTOT2_taxclass', 'EXLAND2_taxclass',\n",
    "          'EXTOT2_taxclass', 'EXCD2_taxclass', 'lotarea_taxclass', 'bldarea_taxclass', 'bldvol_taxclass'],axis=1,inplace=True )"
   ]
  },
  {
   "cell_type": "code",
   "execution_count": 28,
   "metadata": {
    "ExecuteTime": {
     "end_time": "2021-01-30T22:23:58.677954Z",
     "start_time": "2021-01-30T22:23:58.674701Z"
    }
   },
   "outputs": [
    {
     "data": {
      "text/plain": [
       "45"
      ]
     },
     "execution_count": 28,
     "metadata": {},
     "output_type": "execute_result"
    }
   ],
   "source": [
    "len(data.columns)"
   ]
  },
  {
   "cell_type": "code",
   "execution_count": 29,
   "metadata": {
    "ExecuteTime": {
     "end_time": "2021-01-30T22:24:00.038821Z",
     "start_time": "2021-01-30T22:23:58.679571Z"
    }
   },
   "outputs": [],
   "source": [
    "# export the statistical report\n",
    "stats = data.describe().transpose()\n",
    "stats.to_csv('stats_on_vars.csv')"
   ]
  }
 ],
 "metadata": {
  "kernelspec": {
   "display_name": "Python 3",
   "language": "python",
   "name": "python3"
  },
  "language_info": {
   "codemirror_mode": {
    "name": "ipython",
    "version": 3
   },
   "file_extension": ".py",
   "mimetype": "text/x-python",
   "name": "python",
   "nbconvert_exporter": "python",
   "pygments_lexer": "ipython3",
   "version": "3.8.3"
  }
 },
 "nbformat": 4,
 "nbformat_minor": 4
}
